{
 "cells": [
  {
   "cell_type": "code",
   "execution_count": 5,
   "metadata": {},
   "outputs": [
    {
     "name": "stdout",
     "output_type": "stream",
     "text": [
      "AUM for Millennium Management: US$70.2 billion(as of October 2024)[8]\n",
      "Failed to retrieve page for CredicorpCitadel LLC\n",
      "AUM for Bridgewater Associates: US$125billion (2023)[3]\n",
      "AUM for AQR Capital Management: $99 billion (Q4 2023)[1]\n",
      "AUM for Two Sigma Investments: US$60billion (2023)[1]\n",
      "AUM for Renaissance Technologies: US$130 billion(as of April 19, 2021)[2]\n",
      "AUM for Point72 Asset Management: US$31.4 billion(as of October 1, 2023)[5]\n"
     ]
    }
   ],
   "source": [
    "import requests\n",
    "from bs4 import BeautifulSoup\n",
    "\n",
    "def get_aum_from_sidebar(fund_name):\n",
    "    # Format the fund name for Wikipedia URL\n",
    "    url = f\"https://en.wikipedia.org/wiki/{fund_name.replace(' ', '_')}\"\n",
    "    response = requests.get(url, headers={\"User-Agent\": \"MyPythonScript/1.0\"})\n",
    "\n",
    "    if response.status_code == 200:\n",
    "        soup = BeautifulSoup(response.text, \"html.parser\")\n",
    "        \n",
    "        # Locate the infobox on the page\n",
    "        infobox = soup.find(\"table\", {\"class\": \"infobox\"})\n",
    "        \n",
    "        if infobox:\n",
    "            # Find the row containing the \"AUM\" label\n",
    "            for row in infobox.find_all(\"tr\"):\n",
    "                header = row.find(\"th\")\n",
    "                data = row.find(\"td\")\n",
    "                if header and \"aum\" in header.text.lower():\n",
    "                    aum_text = data.get_text(strip=True)\n",
    "                    print(f\"AUM for {fund_name}: {aum_text}\")\n",
    "                    return aum_text\n",
    "            print(f\"AUM information not found for {fund_name}\")\n",
    "        else:\n",
    "            print(f\"No infobox found for {fund_name}\")\n",
    "    else:\n",
    "        print(f\"Failed to retrieve page for {fund_name}\")\n",
    "\n",
    "# Test with a list of fund names\n",
    "funds = [\"Millennium Management\", \n",
    "         \"Credicorp\"\n",
    "\"Citadel LLC\", \n",
    "\"Bridgewater Associates\", \n",
    "\"AQR Capital Management\", \n",
    "\"Two Sigma Investments\", \n",
    "\"Renaissance Technologies\", \n",
    "\"Point72 Asset Management\"]\n",
    "for fund in funds:\n",
    "    get_aum_from_sidebar(fund)\n"
   ]
  },
  {
   "cell_type": "code",
   "execution_count": 6,
   "metadata": {},
   "outputs": [
    {
     "data": {
      "text/plain": [
       "'Credicorp'"
      ]
     },
     "execution_count": 6,
     "metadata": {},
     "output_type": "execute_result"
    }
   ],
   "source": [
    "\"Credicorp\".replace(' ', '_')"
   ]
  },
  {
   "cell_type": "code",
   "execution_count": null,
   "metadata": {},
   "outputs": [],
   "source": []
  }
 ],
 "metadata": {
  "kernelspec": {
   "display_name": "base",
   "language": "python",
   "name": "python3"
  },
  "language_info": {
   "codemirror_mode": {
    "name": "ipython",
    "version": 3
   },
   "file_extension": ".py",
   "mimetype": "text/x-python",
   "name": "python",
   "nbconvert_exporter": "python",
   "pygments_lexer": "ipython3",
   "version": "3.9.4"
  }
 },
 "nbformat": 4,
 "nbformat_minor": 2
}
